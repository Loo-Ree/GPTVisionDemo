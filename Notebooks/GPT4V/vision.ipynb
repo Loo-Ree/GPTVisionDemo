{
 "cells": [
  {
   "cell_type": "code",
   "execution_count": null,
   "metadata": {},
   "outputs": [],
   "source": [
    "# %pip install openai --upgrade"
   ]
  },
  {
   "cell_type": "code",
   "execution_count": null,
   "metadata": {},
   "outputs": [],
   "source": [
    "import datetime\n",
    "import openai\n",
    "import os\n",
    "import base64\n",
    "import requests\n",
    "import json\n",
    "import sys\n",
    "\n",
    "from openai import AzureOpenAI\n",
    "from IPython.display import Image"
   ]
  },
  {
   "cell_type": "code",
   "execution_count": null,
   "metadata": {},
   "outputs": [],
   "source": [
    "# Azure Open AI\n",
    "openai.api_type: str = \"azure\"\n",
    "openai.api_key = \"4ac018829faa4e2dac1142aaddb52425\"\n",
    "openai.api_base = \"https://aoimfuccilosw.openai.azure.com\"\n",
    "#openai.api_version = \"\"\n",
    "\n",
    "# Azure AI Vision (aka Azure Computer Vision)\n",
    "# azure_aivision_endpoint = \"https://aoivisionmfuccilo.cognitiveservices.azure.com/\"\n",
    "# azure_aivision_key = \"f3bcebd78a2c43d5bfa5b2c43cad5f37\""
   ]
  },
  {
   "cell_type": "code",
   "execution_count": null,
   "metadata": {},
   "outputs": [],
   "source": [
    "model = \"GPT4V\""
   ]
  },
  {
   "cell_type": "code",
   "execution_count": null,
   "metadata": {},
   "outputs": [],
   "source": [
    "def gpt4V(image_file, query):\n",
    "    \"\"\"\n",
    "    GPT4-Vision\n",
    "    \"\"\"\n",
    "    # Endpoint\n",
    "    base_url = f\"{openai.api_base}/openai/deployments/{model}\"\n",
    "    endpoint = f\"{base_url}/chat/completions?api-version=2023-12-01-preview\"\n",
    "\n",
    "    # Header\n",
    "    headers = {\"Content-Type\": \"application/json\", \"api-key\": openai.api_key}\n",
    "\n",
    "    # Encoded image\n",
    "    base_64_encoded_image = base64.b64encode(open(image_file, \"rb\").read()).decode(\n",
    "        \"ascii\"\n",
    "    )\n",
    "\n",
    "    # Prompt\n",
    "    data = {\n",
    "        \"messages\": [\n",
    "            {\"role\": \"system\", \"content\": \"You are a helpful assistant.\"},\n",
    "            {\"role\": \"user\", \"content\": [query, {\"image\": base_64_encoded_image}]},\n",
    "        ],\n",
    "        \"max_tokens\": 4000,\n",
    "    }\n",
    "\n",
    "    # Results\n",
    "    response = requests.post(endpoint, headers=headers, data=json.dumps(data))\n",
    "\n",
    "    if response.status_code == 200:\n",
    "        result = json.loads(response.text)[\"choices\"][0][\"message\"][\"content\"]\n",
    "        return result\n",
    "    \n",
    "    if response.status_code == 429:\n",
    "        print(\"[ERROR] Too many requests. Please wait a couple of seconds and try again.\")\n",
    "    \n",
    "    else:\n",
    "        print(\"[ERROR] Error code:\", response.status_code)"
   ]
  },
  {
   "cell_type": "code",
   "execution_count": null,
   "metadata": {},
   "outputs": [],
   "source": [
    "imagefile = \"images/giulia.jpeg\"\n",
    "\n",
    "Image(filename=imagefile)"
   ]
  },
  {
   "cell_type": "code",
   "execution_count": null,
   "metadata": {},
   "outputs": [],
   "source": [
    "result = gpt4V(imagefile, \"What is the brand, model and color of the car?\")\n",
    "\n",
    "print(result)"
   ]
  },
  {
   "cell_type": "code",
   "execution_count": null,
   "metadata": {},
   "outputs": [],
   "source": [
    "imagefile = \"images/amazon-lego.png\"\n",
    "\n",
    "Image(filename=imagefile)"
   ]
  },
  {
   "cell_type": "code",
   "execution_count": null,
   "metadata": {},
   "outputs": [],
   "source": [
    "result = gpt4V(imagefile, \"What is this product?\")\n",
    "\n",
    "print(result)"
   ]
  },
  {
   "cell_type": "code",
   "execution_count": null,
   "metadata": {},
   "outputs": [],
   "source": [
    "result = gpt4V(imagefile, \"Classify this product into BOOK, TV, GUITAR, DVD, TOY, Collector's stuff\")\n",
    "\n",
    "print(result)"
   ]
  },
  {
   "cell_type": "code",
   "execution_count": null,
   "metadata": {},
   "outputs": [],
   "source": [
    "result = gpt4V(imagefile, \"What is the price of this product and the delivery date?\")\n",
    "\n",
    "print(result)"
   ]
  },
  {
   "cell_type": "code",
   "execution_count": null,
   "metadata": {},
   "outputs": [],
   "source": [
    "imagefile = \"images/funny.png\"\n",
    "\n",
    "Image(filename=imagefile)"
   ]
  },
  {
   "cell_type": "code",
   "execution_count": null,
   "metadata": {},
   "outputs": [],
   "source": [
    "result = gpt4V(imagefile, \"What is fun there?\")\n",
    "\n",
    "print(result)"
   ]
  },
  {
   "cell_type": "code",
   "execution_count": null,
   "metadata": {},
   "outputs": [],
   "source": [
    "imagefile = \"images/nolan_collection.jpg\"\n",
    "\n",
    "Image(filename=imagefile)"
   ]
  },
  {
   "cell_type": "code",
   "execution_count": null,
   "metadata": {},
   "outputs": [],
   "source": [
    "result = gpt4V(imagefile, \"What is it?\")\n",
    "\n",
    "print(result)"
   ]
  },
  {
   "cell_type": "code",
   "execution_count": null,
   "metadata": {},
   "outputs": [],
   "source": [
    "result = gpt4V(imagefile, \"Which movies this box set contains, based on the front side images? Describe in order from top left\")\n",
    "\n",
    "print(result)"
   ]
  }
 ],
 "metadata": {
  "kernelspec": {
   "display_name": "base",
   "language": "python",
   "name": "python3"
  },
  "language_info": {
   "codemirror_mode": {
    "name": "ipython",
    "version": 3
   },
   "file_extension": ".py",
   "mimetype": "text/x-python",
   "name": "python",
   "nbconvert_exporter": "python",
   "pygments_lexer": "ipython3",
   "version": "3.11.5"
  }
 },
 "nbformat": 4,
 "nbformat_minor": 2
}
