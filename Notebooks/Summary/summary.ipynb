{
 "cells": [
  {
   "cell_type": "code",
   "execution_count": 1,
   "metadata": {},
   "outputs": [
    {
     "name": "stdout",
     "output_type": "stream",
     "text": [
      "Requirement already satisfied: openai in /opt/conda/lib/python3.11/site-packages (1.3.7)\n",
      "Collecting openai\n",
      "  Obtaining dependency information for openai from https://files.pythonhosted.org/packages/e7/44/5ece9adb8b5943273c845a1e3200168b396f556051b7d2745995abf41584/openai-1.6.1-py3-none-any.whl.metadata\n",
      "  Downloading openai-1.6.1-py3-none-any.whl.metadata (17 kB)\n",
      "Requirement already satisfied: anyio<5,>=3.5.0 in /opt/conda/lib/python3.11/site-packages (from openai) (3.7.1)\n",
      "Requirement already satisfied: distro<2,>=1.7.0 in /opt/conda/lib/python3.11/site-packages (from openai) (1.8.0)\n",
      "Requirement already satisfied: httpx<1,>=0.23.0 in /opt/conda/lib/python3.11/site-packages (from openai) (0.25.2)\n",
      "Requirement already satisfied: pydantic<3,>=1.9.0 in /opt/conda/lib/python3.11/site-packages (from openai) (2.5.2)\n",
      "Requirement already satisfied: sniffio in /opt/conda/lib/python3.11/site-packages (from openai) (1.2.0)\n",
      "Requirement already satisfied: tqdm>4 in /opt/conda/lib/python3.11/site-packages (from openai) (4.65.0)\n",
      "Requirement already satisfied: typing-extensions<5,>=4.7 in /opt/conda/lib/python3.11/site-packages (from openai) (4.9.0)\n",
      "Requirement already satisfied: idna>=2.8 in /opt/conda/lib/python3.11/site-packages (from anyio<5,>=3.5.0->openai) (3.4)\n",
      "Requirement already satisfied: certifi in /opt/conda/lib/python3.11/site-packages (from httpx<1,>=0.23.0->openai) (2023.11.17)\n",
      "Requirement already satisfied: httpcore==1.* in /opt/conda/lib/python3.11/site-packages (from httpx<1,>=0.23.0->openai) (1.0.2)\n",
      "Requirement already satisfied: h11<0.15,>=0.13 in /opt/conda/lib/python3.11/site-packages (from httpcore==1.*->httpx<1,>=0.23.0->openai) (0.14.0)\n",
      "Requirement already satisfied: annotated-types>=0.4.0 in /opt/conda/lib/python3.11/site-packages (from pydantic<3,>=1.9.0->openai) (0.6.0)\n",
      "Requirement already satisfied: pydantic-core==2.14.5 in /opt/conda/lib/python3.11/site-packages (from pydantic<3,>=1.9.0->openai) (2.14.5)\n",
      "Downloading openai-1.6.1-py3-none-any.whl (225 kB)\n",
      "\u001b[2K   \u001b[90m━━━━━━━━━━━━━━━━━━━━━━━━━━━━━━━━━━━━━━━━\u001b[0m \u001b[32m225.4/225.4 kB\u001b[0m \u001b[31m4.2 MB/s\u001b[0m eta \u001b[36m0:00:00\u001b[0ma \u001b[36m0:00:01\u001b[0m\n",
      "\u001b[?25hInstalling collected packages: openai\n",
      "  Attempting uninstall: openai\n",
      "    Found existing installation: openai 1.3.7\n",
      "    Uninstalling openai-1.3.7:\n",
      "      Successfully uninstalled openai-1.3.7\n",
      "Successfully installed openai-1.6.1\n",
      "Note: you may need to restart the kernel to use updated packages.\n"
     ]
    }
   ],
   "source": [
    "%pip install openai --upgrade"
   ]
  },
  {
   "cell_type": "code",
   "execution_count": 2,
   "metadata": {},
   "outputs": [],
   "source": [
    "import json\n",
    "import openai\n",
    "import os\n",
    "import requests\n",
    "import sys"
   ]
  },
  {
   "cell_type": "code",
   "execution_count": 3,
   "metadata": {},
   "outputs": [],
   "source": [
    "# Azure Open AI\n",
    "openai.api_type: str = \"azure\"\n",
    "openai.api_key = \"51166339f2f3498eb48e07a1c57a24b9\"\n",
    "openai.api_base = \"https://oaimfuccilo.openai.azure.com\"\n",
    "model = \"gpt4\""
   ]
  },
  {
   "cell_type": "code",
   "execution_count": 4,
   "metadata": {},
   "outputs": [],
   "source": [
    "class GPTResponse:\n",
    "    result = \"\"\n",
    "    prompt_tokens = 0\n",
    "    completion_tokens = 0\n",
    "    total_tokens = 0"
   ]
  },
  {
   "cell_type": "code",
   "execution_count": 5,
   "metadata": {},
   "outputs": [],
   "source": [
    "def GPTCall(context, query):\n",
    "    \"\"\"\n",
    "    GPT call\n",
    "    \"\"\"\n",
    "    # Endpoint\n",
    "    base_url = f\"{openai.api_base}/openai/deployments/{model}\"\n",
    "    endpoint = f\"{base_url}/chat/completions?api-version=2023-12-01-preview\"\n",
    "\n",
    "    # Header\n",
    "    headers = {\"Content-Type\": \"application/json\", \"api-key\": openai.api_key}\n",
    "\n",
    "    # Prompt\n",
    "    data = {\n",
    "        \"messages\": [\n",
    "            {\"role\": \"system\", \"content\": context },\n",
    "            {\"role\": \"user\", \"content\": query },\n",
    "        ],\n",
    "        \"max_tokens\": 4000,\n",
    "    }\n",
    "    \n",
    "\n",
    "    # Results\n",
    "    print(\"DEBUG: invio dati a GPT4V\")\n",
    "    response = requests.post(endpoint, headers=headers, data=json.dumps(data))\n",
    "    \n",
    "    res = GPTResponse()\n",
    "    res.result = \"no response\"\n",
    "    if response.status_code == 200:\n",
    "        results = json.loads(response.text)\n",
    "        res.result = results[\"choices\"][0][\"message\"][\"content\"]\n",
    "        res.prompt_tokens = results[\"usage\"][\"prompt_tokens\"]\n",
    "        res.completion_tokens = results[\"usage\"][\"completion_tokens\"]\n",
    "        res.total_tokens = results[\"usage\"][\"total_tokens\"]\n",
    "    else:\n",
    "        if response.status_code == 429:\n",
    "            res.result =\"[ERROR] Too many requests. Please wait a couple of seconds and try again.\"\n",
    "        else:\n",
    "            res.result = f\"[ERROR] Error code: '{response.status_code}'\" \n",
    "\n",
    "    return res\n"
   ]
  },
  {
   "cell_type": "code",
   "execution_count": 13,
   "metadata": {},
   "outputs": [],
   "source": [
    "with open('sampleplain.txt', 'r') as file:\n",
    "    content = file.read()\n",
    "    \n",
    "prompt = f\"Riassumi il seguente testo:\\n\\n{content}\\n\\nRiassunto:\\n\"\n"
   ]
  },
  {
   "cell_type": "code",
   "execution_count": 14,
   "metadata": {},
   "outputs": [
    {
     "name": "stdout",
     "output_type": "stream",
     "text": [
      "DEBUG: invio dati a GPT4V\n",
      "answer: Il documento presenta una descrizione dettagliata dei requisiti necessari per l'adeguamento di alcuni moduli software per permettere l'allegato di bollettini ai documenti inviati tramite Raccomandata Online (ROL) e Posta Prioritaria Online (LOL). Esso include informazioni dettagliate sulla storia del template e del documento, le informazioni generali della richiesta, acronimi e definizioni utilizzate, e i vari requisiti degli utenti riguardanti aspetti di funzionamento e vari altri aspetti di interesse.\n",
      "\n",
      "Marco Maiolico, dell'unità organizzativa Postecom/Marketing Servizi Digitali, è responsabile di redigere il documento. L'obiettivo è fornire un meccanismo per allegare bollettini ai documenti inviati attraverso ROL e LOL, specificare i metadati del bollettino ed effettuare il controllo dei metadati.\n",
      "\n",
      "Il documento evidenzia anche che l'introduzione di questa funzionalità comporterà l'applicazione di un costo per la rendicontazione dei bollettini ai clienti di Postaonline H2H. Allo stesso tempo, illustra i volumi previsti dell'offerta Postaonline per il primo semestre dal rilascio.\n",
      "\n",
      "Sono inclusi vari requisiti relativi all'aggiornamento delle specifiche di integrazione dei web service, all'aggiornamento dei contratti per il canale H2H, e alla necessità di ottenere l'autorizzazione da BancoPosta per stampare bollettini attraverso la piattaforma NPCE.\n",
      "prompt_tokens: 5296\n",
      "completion_tokens: 363\n",
      "total_tokens: 5659\n"
     ]
    }
   ],
   "source": [
    "context = \"sei un assistente virtuale che aiuta le persone a riassumere i documenti e a prendere appunti. Puoi anche fare domande sul contenuto del documento.\"\n",
    "res = GPTCall(context, prompt)\n",
    "print(f\"answer: {res.result}\")\n",
    "print(f\"prompt_tokens: {res.prompt_tokens}\")\n",
    "print(f\"completion_tokens: {res.completion_tokens}\")\n",
    "print(f\"total_tokens: {res.total_tokens}\")\n"
   ]
  }
 ],
 "metadata": {
  "kernelspec": {
   "display_name": "base",
   "language": "python",
   "name": "python3"
  },
  "language_info": {
   "codemirror_mode": {
    "name": "ipython",
    "version": 3
   },
   "file_extension": ".py",
   "mimetype": "text/x-python",
   "name": "python",
   "nbconvert_exporter": "python",
   "pygments_lexer": "ipython3",
   "version": "3.11.5"
  }
 },
 "nbformat": 4,
 "nbformat_minor": 2
}
